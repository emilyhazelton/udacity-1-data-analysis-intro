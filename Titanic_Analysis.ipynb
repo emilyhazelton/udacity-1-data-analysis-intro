{
 "cells": [
  {
   "cell_type": "markdown",
   "metadata": {},
   "source": [
    "# Introduction\n",
    "In this project, I'm going to analyze a dataset of 891 passenger records from the Titanic. I'm interested in looking at what factors were correlated with passenger survival. This data is a sample, as the total population size of titanic passengers was 2224. I actually know very little about the Titanic incident, so it will interesing to see if my preconceptions about survival factors end up being correct or false.\n",
    "\n",
    "To get started, I will import some handy Python libraries and set up some functions that I can reuse as I'm evaluating different factors and how they are correlated with passenger survival rate."
   ]
  },
  {
   "cell_type": "markdown",
   "metadata": {},
   "source": [
    "## Importing Libraries"
   ]
  },
  {
   "cell_type": "code",
   "execution_count": 17,
   "metadata": {
    "collapsed": true
   },
   "outputs": [],
   "source": [
    "import numpy as np\n",
    "import pandas as pd\n",
    "import seaborn as sns\n",
    "import matplotlib.pyplot as plt\n",
    "%matplotlib inline"
   ]
  },
  {
   "cell_type": "markdown",
   "metadata": {},
   "source": [
    "## Re-usable functions"
   ]
  },
  {
   "cell_type": "code",
   "execution_count": 9,
   "metadata": {
    "collapsed": true
   },
   "outputs": [],
   "source": [
    "def group_and_report(df,factor):\n",
    "    #Pull just the survival column and the factor we're looking at \n",
    "    reduced_df = df[[factor,'Survived']]\n",
    "    \n",
    "    #Since survived = 1 in the 'Survived' column, a sum function will return the number of people who survived\n",
    "    survival = reduced_df.groupby(factor).sum()\n",
    "    \n",
    "    #Add extra columns that help make the info more meaningful\n",
    "    survival['On Board'] = reduced_df.groupby(factor).count()\n",
    "    survival['Percent Survived'] = (reduced_df.groupby(factor).sum()/reduced_df.groupby(factor).count())*100.\n",
    "    return survival\n",
    "\n",
    "def group_and_graph(df,factor,title):\n",
    "    reduced_df = df[[factor,'Survived']]\n",
    "    survival = reduced_df.groupby(factor).sum()\n",
    "    survival['Died'] = reduced_df.groupby(factor).count() - reduced_df.groupby(factor).sum()\n",
    "    graph = survival.plot.bar(stacked=True, title=title) \n",
    "    graph.set_ylabel(\"Number of Passengers\")\n",
    "\n",
    "def print_correlation(x, y):\n",
    "    #Allow default of using Bessel's correction in std() function, as we have a sample, not a population.\n",
    "    dist_x = (x - x.mean()) / x.std()\n",
    "    dist_y = (y - y.mean()) / y.std()\n",
    "    correlation = np.corrcoef(dist_x, dist_y)\n",
    "    print correlation\n",
    "\n",
    "def age_logic(age):\n",
    "    if age < 1:\n",
    "        label = '00: baby'\n",
    "    elif age <= 3:\n",
    "        label = '01-03: toddler'\n",
    "    elif age <= 12:\n",
    "        label = '04-12: child'\n",
    "    elif age <= 18:\n",
    "        label = '13-18: adolescent'\n",
    "    else:\n",
    "        label = '19+: adult'\n",
    "    return label"
   ]
  },
  {
   "cell_type": "markdown",
   "metadata": {},
   "source": [
    "# Exploring and Cleaning the Data"
   ]
  },
  {
   "cell_type": "markdown",
   "metadata": {},
   "source": [
    "Let's take a look at what type of passenger data we have available. You can see a sample of the data displayed below."
   ]
  },
  {
   "cell_type": "code",
   "execution_count": 3,
   "metadata": {},
   "outputs": [
    {
     "data": {
      "text/html": [
       "<div>\n",
       "<style>\n",
       "    .dataframe thead tr:only-child th {\n",
       "        text-align: right;\n",
       "    }\n",
       "\n",
       "    .dataframe thead th {\n",
       "        text-align: left;\n",
       "    }\n",
       "\n",
       "    .dataframe tbody tr th {\n",
       "        vertical-align: top;\n",
       "    }\n",
       "</style>\n",
       "<table border=\"1\" class=\"dataframe\">\n",
       "  <thead>\n",
       "    <tr style=\"text-align: right;\">\n",
       "      <th></th>\n",
       "      <th>PassengerId</th>\n",
       "      <th>Survived</th>\n",
       "      <th>Pclass</th>\n",
       "      <th>Name</th>\n",
       "      <th>Sex</th>\n",
       "      <th>Age</th>\n",
       "      <th>SibSp</th>\n",
       "      <th>Parch</th>\n",
       "      <th>Ticket</th>\n",
       "      <th>Fare</th>\n",
       "      <th>Cabin</th>\n",
       "      <th>Embarked</th>\n",
       "    </tr>\n",
       "  </thead>\n",
       "  <tbody>\n",
       "    <tr>\n",
       "      <th>0</th>\n",
       "      <td>546</td>\n",
       "      <td>0</td>\n",
       "      <td>1</td>\n",
       "      <td>Nicholson, Mr. Arthur Ernest</td>\n",
       "      <td>male</td>\n",
       "      <td>64.0</td>\n",
       "      <td>0</td>\n",
       "      <td>0</td>\n",
       "      <td>693</td>\n",
       "      <td>26.0000</td>\n",
       "      <td>NaN</td>\n",
       "      <td>S</td>\n",
       "    </tr>\n",
       "    <tr>\n",
       "      <th>1</th>\n",
       "      <td>873</td>\n",
       "      <td>0</td>\n",
       "      <td>1</td>\n",
       "      <td>Carlsson, Mr. Frans Olof</td>\n",
       "      <td>male</td>\n",
       "      <td>33.0</td>\n",
       "      <td>0</td>\n",
       "      <td>0</td>\n",
       "      <td>695</td>\n",
       "      <td>5.0000</td>\n",
       "      <td>B51 B53 B55</td>\n",
       "      <td>S</td>\n",
       "    </tr>\n",
       "    <tr>\n",
       "      <th>2</th>\n",
       "      <td>75</td>\n",
       "      <td>1</td>\n",
       "      <td>3</td>\n",
       "      <td>Bing, Mr. Lee</td>\n",
       "      <td>male</td>\n",
       "      <td>32.0</td>\n",
       "      <td>0</td>\n",
       "      <td>0</td>\n",
       "      <td>1601</td>\n",
       "      <td>56.4958</td>\n",
       "      <td>NaN</td>\n",
       "      <td>S</td>\n",
       "    </tr>\n",
       "    <tr>\n",
       "      <th>3</th>\n",
       "      <td>839</td>\n",
       "      <td>1</td>\n",
       "      <td>3</td>\n",
       "      <td>Chip, Mr. Chang</td>\n",
       "      <td>male</td>\n",
       "      <td>32.0</td>\n",
       "      <td>0</td>\n",
       "      <td>0</td>\n",
       "      <td>1601</td>\n",
       "      <td>56.4958</td>\n",
       "      <td>NaN</td>\n",
       "      <td>S</td>\n",
       "    </tr>\n",
       "    <tr>\n",
       "      <th>4</th>\n",
       "      <td>644</td>\n",
       "      <td>1</td>\n",
       "      <td>3</td>\n",
       "      <td>Foo, Mr. Choong</td>\n",
       "      <td>male</td>\n",
       "      <td>NaN</td>\n",
       "      <td>0</td>\n",
       "      <td>0</td>\n",
       "      <td>1601</td>\n",
       "      <td>56.4958</td>\n",
       "      <td>NaN</td>\n",
       "      <td>S</td>\n",
       "    </tr>\n",
       "    <tr>\n",
       "      <th>5</th>\n",
       "      <td>693</td>\n",
       "      <td>1</td>\n",
       "      <td>3</td>\n",
       "      <td>Lam, Mr. Ali</td>\n",
       "      <td>male</td>\n",
       "      <td>NaN</td>\n",
       "      <td>0</td>\n",
       "      <td>0</td>\n",
       "      <td>1601</td>\n",
       "      <td>56.4958</td>\n",
       "      <td>NaN</td>\n",
       "      <td>S</td>\n",
       "    </tr>\n",
       "    <tr>\n",
       "      <th>6</th>\n",
       "      <td>827</td>\n",
       "      <td>0</td>\n",
       "      <td>3</td>\n",
       "      <td>Lam, Mr. Len</td>\n",
       "      <td>male</td>\n",
       "      <td>NaN</td>\n",
       "      <td>0</td>\n",
       "      <td>0</td>\n",
       "      <td>1601</td>\n",
       "      <td>56.4958</td>\n",
       "      <td>NaN</td>\n",
       "      <td>S</td>\n",
       "    </tr>\n",
       "    <tr>\n",
       "      <th>7</th>\n",
       "      <td>510</td>\n",
       "      <td>1</td>\n",
       "      <td>3</td>\n",
       "      <td>Lang, Mr. Fang</td>\n",
       "      <td>male</td>\n",
       "      <td>26.0</td>\n",
       "      <td>0</td>\n",
       "      <td>0</td>\n",
       "      <td>1601</td>\n",
       "      <td>56.4958</td>\n",
       "      <td>NaN</td>\n",
       "      <td>S</td>\n",
       "    </tr>\n",
       "    <tr>\n",
       "      <th>8</th>\n",
       "      <td>170</td>\n",
       "      <td>0</td>\n",
       "      <td>3</td>\n",
       "      <td>Ling, Mr. Lee</td>\n",
       "      <td>male</td>\n",
       "      <td>28.0</td>\n",
       "      <td>0</td>\n",
       "      <td>0</td>\n",
       "      <td>1601</td>\n",
       "      <td>56.4958</td>\n",
       "      <td>NaN</td>\n",
       "      <td>S</td>\n",
       "    </tr>\n",
       "    <tr>\n",
       "      <th>9</th>\n",
       "      <td>427</td>\n",
       "      <td>1</td>\n",
       "      <td>2</td>\n",
       "      <td>Clarke, Mrs. Charles V (Ada Maria Winfield)</td>\n",
       "      <td>female</td>\n",
       "      <td>28.0</td>\n",
       "      <td>1</td>\n",
       "      <td>0</td>\n",
       "      <td>2003</td>\n",
       "      <td>26.0000</td>\n",
       "      <td>NaN</td>\n",
       "      <td>S</td>\n",
       "    </tr>\n",
       "  </tbody>\n",
       "</table>\n",
       "</div>"
      ],
      "text/plain": [
       "   PassengerId  Survived  Pclass                                         Name  \\\n",
       "0          546         0       1                 Nicholson, Mr. Arthur Ernest   \n",
       "1          873         0       1                     Carlsson, Mr. Frans Olof   \n",
       "2           75         1       3                                Bing, Mr. Lee   \n",
       "3          839         1       3                              Chip, Mr. Chang   \n",
       "4          644         1       3                              Foo, Mr. Choong   \n",
       "5          693         1       3                                 Lam, Mr. Ali   \n",
       "6          827         0       3                                 Lam, Mr. Len   \n",
       "7          510         1       3                               Lang, Mr. Fang   \n",
       "8          170         0       3                                Ling, Mr. Lee   \n",
       "9          427         1       2  Clarke, Mrs. Charles V (Ada Maria Winfield)   \n",
       "\n",
       "      Sex   Age  SibSp  Parch Ticket     Fare        Cabin Embarked  \n",
       "0    male  64.0      0      0    693  26.0000          NaN        S  \n",
       "1    male  33.0      0      0    695   5.0000  B51 B53 B55        S  \n",
       "2    male  32.0      0      0   1601  56.4958          NaN        S  \n",
       "3    male  32.0      0      0   1601  56.4958          NaN        S  \n",
       "4    male   NaN      0      0   1601  56.4958          NaN        S  \n",
       "5    male   NaN      0      0   1601  56.4958          NaN        S  \n",
       "6    male   NaN      0      0   1601  56.4958          NaN        S  \n",
       "7    male  26.0      0      0   1601  56.4958          NaN        S  \n",
       "8    male  28.0      0      0   1601  56.4958          NaN        S  \n",
       "9  female  28.0      1      0   2003  26.0000          NaN        S  "
      ]
     },
     "execution_count": 3,
     "metadata": {},
     "output_type": "execute_result"
    }
   ],
   "source": [
    "titanic_data = pd.read_csv('titanic-data.csv')\n",
    "titanic_data.head(10)"
   ]
  },
  {
   "cell_type": "markdown",
   "metadata": {},
   "source": [
    "For my analysis, I'm interested in investigating how the passengers' sex, age, class, and number of family members on board impacted survival rate."
   ]
  },
  {
   "cell_type": "markdown",
   "metadata": {},
   "source": [
    "# Factors Impacting Survival"
   ]
  },
  {
   "cell_type": "markdown",
   "metadata": {},
   "source": [
    "## Overall Survival Rate"
   ]
  },
  {
   "cell_type": "markdown",
   "metadata": {},
   "source": [
    "First, let's take a look at overall survival rate for the sample of 891 passengers."
   ]
  },
  {
   "cell_type": "code",
   "execution_count": 24,
   "metadata": {},
   "outputs": [
    {
     "data": {
      "text/plain": [
       "<matplotlib.text.Text at 0xdc15358>"
      ]
     },
     "execution_count": 24,
     "metadata": {},
     "output_type": "execute_result"
    },
    {
     "data": {
      "image/png": "[encoded data removed]",
      "text/plain": [
       "<matplotlib.figure.Figure at 0xb37a240>"
      ]
     },
     "metadata": {},
     "output_type": "display_data"
    }
   ],
   "source": [
    "survival_tally = pd.Series(titanic_data['Survived'])\n",
    "#survival_tally.groupby(survival_tally['Survived']).count().plot.bar()\n",
    "grph = sns.countplot(x=survival_tally)\n",
    "grph.set_title(\"Survival of Titanic Passengers\")\n",
    "grph.set_ylabel(\"Number of Passengers\")"
   ]
  },
  {
   "cell_type": "code",
   "execution_count": 6,
   "metadata": {},
   "outputs": [
    {
     "data": {
      "text/plain": [
       "count    891.000000\n",
       "mean       0.383838\n",
       "std        0.486592\n",
       "min        0.000000\n",
       "25%        0.000000\n",
       "50%        0.000000\n",
       "75%        1.000000\n",
       "max        1.000000\n",
       "Name: Survived, dtype: float64"
      ]
     },
     "execution_count": 6,
     "metadata": {},
     "output_type": "execute_result"
    }
   ],
   "source": [
    "survival_tally.describe()"
   ]
  },
  {
   "cell_type": "markdown",
   "metadata": {},
   "source": [
    "From the information displayed above, we can see that over 500 people died and over 350 people survived from the sample we have. Only 38.4 percent of the sample passengers survived. Not very good odds! What characteristics were correlated with a higher-than-average rate of survival?"
   ]
  },
  {
   "cell_type": "markdown",
   "metadata": {},
   "source": [
    "## How does gender impact survival?"
   ]
  },
  {
   "cell_type": "markdown",
   "metadata": {},
   "source": [
    "Before I looked at the data, I expected that males would have a higher rate of survival than females. I was thinking males would be more physically able to swim to survival and hang onto the rescue boats. However, that was not the case at all. Let's take a look at survival information by sex."
   ]
  },
  {
   "cell_type": "code",
   "execution_count": 10,
   "metadata": {
    "scrolled": true
   },
   "outputs": [
    {
     "name": "stdout",
     "output_type": "stream",
     "text": [
      "        Survived  On Board  Percent Survived\n",
      "Sex                                         \n",
      "female       233       314         74.203822\n",
      "male         109       577         18.890815\n"
     ]
    },
    {
     "data": {
      "image/png": "[encoded data removed]",
      "text/plain": [
       "<matplotlib.figure.Figure at 0xa3e4be0>"
      ]
     },
     "metadata": {},
     "output_type": "display_data"
    }
   ],
   "source": [
    "print(group_and_report(titanic_data,'Sex'))\n",
    "group_and_graph(titanic_data,'Sex', 'Passenger Survival by Sex')"
   ]
  },
  {
   "cell_type": "markdown",
   "metadata": {},
   "source": [
    "74.0 percent of females survived, while only 18.9 percent of males survived. That's surprising! Let's see how strongly survival and being female are correlated."
   ]
  },
  {
   "cell_type": "code",
   "execution_count": 8,
   "metadata": {},
   "outputs": [
    {
     "name": "stdout",
     "output_type": "stream",
     "text": [
      "[[ 1.          0.54335138]\n",
      " [ 0.54335138  1.        ]]\n"
     ]
    }
   ],
   "source": [
    "quantify_male_female = pd.Series(np.where(titanic_data['Sex']=='male', 1, 2))\n",
    "print_correlation(survival_tally,quantify_male_female)"
   ]
  },
  {
   "cell_type": "markdown",
   "metadata": {},
   "source": [
    "[Pearson's correlation coefficient](https://en.wikipedia.org/wiki/Pearson_correlation_coefficient) for the linear relationship between being female and surviving is .54. \n",
    "\n",
    "Based on historical accounts of the event, I learned that rescue boats were loaded with a \"women and children first\" policy. With this additional information, it's fair to say that sex was a causal factor in survival rates of passengers. That causal relationship would not be possible to derive from the data set alone, though."
   ]
  },
  {
   "cell_type": "markdown",
   "metadata": {},
   "source": [
    "## How does age impact survival?"
   ]
  },
  {
   "cell_type": "markdown",
   "metadata": {},
   "source": [
    "Let's take a look at survival by age. We know there was a \"women and children first\" policy. How strong is the correlation between youth and survival?"
   ]
  },
  {
   "cell_type": "code",
   "execution_count": 26,
   "metadata": {},
   "outputs": [
    {
     "data": {
      "text/plain": [
       "<matplotlib.text.Text at 0xe2eb1d0>"
      ]
     },
     "execution_count": 26,
     "metadata": {},
     "output_type": "execute_result"
    },
    {
     "data": {
      "image/png": "[encoded data removed]",
      "text/plain": [
       "<matplotlib.figure.Figure at 0xd9595f8>"
      ]
     },
     "metadata": {},
     "output_type": "display_data"
    }
   ],
   "source": [
    "graph = titanic_data['Age'].plot.hist()\n",
    "graph.set_xlabel(\"Age\")\n",
    "graph.set_title(\"Age of Titanic Passengers\")"
   ]
  },
  {
   "cell_type": "markdown",
   "metadata": {},
   "source": [
    "One important thing to note is that age is not recorded for all passengers. There are a couple different ways that I could deal with this. Some potential treatments include: I could just ignore data where age information is missing, I could replace missing age fields with mean value for age, or I could replace missing age fields with the median age for all age fields that are present.\n",
    "\n",
    "In this case, I am going to actually drop the rows where age data is not present. If I were curious about the general shape of the age data, replacing missing information with the mean or median could be good choices. However, I want to know how age impacts survival. What if missing age fields are not random -- what if they were left blank based on some bias, such as these people are all children? In that case, replacing empty fields with the mean age would give me a very inacurrate picture for survival by age. AND, due to that same potential bias, it is possible that my sample data is inherently flawed, and the survival rate of the entire Titanic population will not be accurately represented by this analysis."
   ]
  },
  {
   "cell_type": "code",
   "execution_count": 27,
   "metadata": {},
   "outputs": [
    {
     "name": "stdout",
     "output_type": "stream",
     "text": [
      "[[ 1.         -0.07722109]\n",
      " [-0.07722109  1.        ]]\n"
     ]
    }
   ],
   "source": [
    "survival_by_age = titanic_data[['Age','Survived']].dropna().sort_values('Age')\n",
    "print_correlation(survival_by_age['Survived'],survival_by_age['Age'])"
   ]
  },
  {
   "cell_type": "markdown",
   "metadata": {},
   "source": [
    "On first analysis, it looks like age and survival were not highly correlated. The negative number means that as age increases, survival rate goes down. But the correlation coefficient is so close to 0 that it seems practically negligble. How can that be? Now that I have read more about the Titanic incident, I know that rescue boats were loaded with a \"women and children first\" policy. \n",
    "\n",
    "My age range spans from 0 to 80. I think that the wide spread of age and higher quantity of adult passengers are not accurately reflecting how this policy impacted survival rate based on age bracket.\n",
    "\n",
    "I'm going to create a new column that classifies the age groups so I can make a bar graph based on that. I will define 0 years old as \"baby,\" 1-3 as \"toddler,\" 4-12 as \"child,\" 13-18 as \"adolescent,\" and 19 and higher as \"adult.\" "
   ]
  },
  {
   "cell_type": "code",
   "execution_count": 28,
   "metadata": {},
   "outputs": [
    {
     "name": "stdout",
     "output_type": "stream",
     "text": [
      "                   Survived  On Board  Percent Survived\n",
      "Age Category                                           \n",
      "00: baby                  7         7        100.000000\n",
      "01-03: toddler           13        23         56.521739\n",
      "04-12: child             20        39         51.282051\n",
      "13-18: adolescent        30        70         42.857143\n",
      "19+: adult              220       575         38.260870\n"
     ]
    },
    {
     "data": {
      "image/png": "[encoded data removed]",
      "text/plain": [
       "<matplotlib.figure.Figure at 0xe32d1d0>"
      ]
     },
     "metadata": {},
     "output_type": "display_data"
    }
   ],
   "source": [
    "survival_by_age['Age Category'] = survival_by_age['Age'].apply(age_logic)\n",
    "print(group_and_report(survival_by_age,'Age Category'))\n",
    "group_and_graph(survival_by_age,'Age Category','Passenger Survival by Age Group')"
   ]
  },
  {
   "cell_type": "markdown",
   "metadata": {},
   "source": [
    "From this grouping, we can see the policy at work. From the data that I have available, it looks like correlation between youth and a higher rate of survival. It's interesting to me that toddlers, children, and adolescents had lower survival rates than women. I would have expected more of an equal rate of survival between women and children, given what I know about the \"women and children first\" policy."
   ]
  },
  {
   "cell_type": "markdown",
   "metadata": {},
   "source": [
    "## How does ticket class impact survival?"
   ]
  },
  {
   "cell_type": "markdown",
   "metadata": {},
   "source": [
    "I definitely think that a higher class will be correlated with higher survival rates. First, I'm guessing higher class tickets are located higher within the boat, so closer to an escape route. Second, I'm guessing the operators of the Titanic would prioritize higher class passengers for the limited space on the rescue boats. Let's see if I'm right. "
   ]
  },
  {
   "cell_type": "code",
   "execution_count": 29,
   "metadata": {},
   "outputs": [
    {
     "name": "stdout",
     "output_type": "stream",
     "text": [
      "        Survived  On Board  Percent Survived\n",
      "Pclass                                      \n",
      "1            136       216         62.962963\n",
      "2             87       184         47.282609\n",
      "3            119       491         24.236253\n"
     ]
    },
    {
     "data": {
      "image/png": "[encoded data removed]",
      "text/plain": [
       "<matplotlib.figure.Figure at 0xebbbdd8>"
      ]
     },
     "metadata": {},
     "output_type": "display_data"
    }
   ],
   "source": [
    "print(group_and_report(titanic_data,'Pclass'))\n",
    "group_and_graph(titanic_data,'Pclass','Passenger Survival by Class')"
   ]
  },
  {
   "cell_type": "markdown",
   "metadata": {},
   "source": [
    "A higher class ticket was, indeed, correlated with a higher survival rate. You can see that classes 1 and 2 had higher rates of survival than the average for the full sample of 891 passengers. And class 3 passengers had a lower survival rate than average for the whole sample group."
   ]
  },
  {
   "cell_type": "code",
   "execution_count": 14,
   "metadata": {},
   "outputs": [
    {
     "name": "stdout",
     "output_type": "stream",
     "text": [
      "[[ 1.         -0.33848104]\n",
      " [-0.33848104  1.        ]]\n"
     ]
    }
   ],
   "source": [
    "class_tally = pd.Series(titanic_data['Pclass'])\n",
    "print_correlation(survival_tally,class_tally)"
   ]
  },
  {
   "cell_type": "markdown",
   "metadata": {},
   "source": [
    "I also wanted to see what Pearson's correlation coefficent would be for class. It was -0.338. A negative correlation means that survival rate decreased as class increased. Since a higher class number actually represents a \"lower\" class, this is consistent with my expectations."
   ]
  },
  {
   "cell_type": "markdown",
   "metadata": {},
   "source": [
    "## How does family size impact survival?"
   ]
  },
  {
   "cell_type": "markdown",
   "metadata": {},
   "source": [
    "Finally, I was curious to see if passengers with more family members on board would have a higher rate of survival. My theory is that they would -- as someone would be watching out for them and helping them reach the survival rafts. Let's take a look.\n",
    "\n",
    "** Add histogram **"
   ]
  },
  {
   "cell_type": "code",
   "execution_count": 31,
   "metadata": {},
   "outputs": [
    {
     "data": {
      "text/plain": [
       "<matplotlib.text.Text at 0xee32278>"
      ]
     },
     "execution_count": 31,
     "metadata": {},
     "output_type": "execute_result"
    },
    {
     "data": {
      "image/png": "[encoded data removed]",
      "text/plain": [
       "<matplotlib.figure.Figure at 0xefbecf8>"
      ]
     },
     "metadata": {},
     "output_type": "display_data"
    }
   ],
   "source": [
    "family_members_tally = pd.Series(titanic_data['SibSp'] + titanic_data['Parch'])\n",
    "graph = family_members_tally.plot.hist(title='Family Size of Passengers')\n",
    "graph.set_xlabel(\"Survival by number of family members on board\")"
   ]
  },
  {
   "cell_type": "code",
   "execution_count": 26,
   "metadata": {},
   "outputs": [
    {
     "name": "stdout",
     "output_type": "stream",
     "text": [
      "                Survived  On Board  Percent Survived\n",
      "Family Members                                      \n",
      "0                    163       537         30.353818\n",
      "1                     89       161         55.279503\n",
      "2                     59       102         57.843137\n",
      "3                     21        29         72.413793\n",
      "4                      3        15         20.000000\n",
      "5                      3        22         13.636364\n",
      "6                      4        12         33.333333\n",
      "7                      0         6          0.000000\n",
      "10                     0         7          0.000000\n"
     ]
    }
   ],
   "source": [
    "survival_and_family_count = pd.DataFrame({'Survived': survival_tally, 'Family Members':family_members_tally})\n",
    "grouped_family = group_and_report(survival_and_family_count,'Family Members')\n",
    "print(grouped_family)"
   ]
  },
  {
   "cell_type": "markdown",
   "metadata": {},
   "source": [
    "It's hard for me to tell if family size has a correlation with survival outcomes. Also, as I look at this data, I don't feel like passengers with 7 family members or 10 family members should be included -- there is such a small subset of them. However, when I split this data into quartiles, find the IQR, and use that to find what might be considered an outlier in survival rate, none of these would be considered outliers. So I'll leave the data as shown above. "
   ]
  },
  {
   "cell_type": "code",
   "execution_count": 18,
   "metadata": {},
   "outputs": [
    {
     "data": {
      "text/plain": [
       "<matplotlib.axes._subplots.AxesSubplot at 0xb832ef0>"
      ]
     },
     "execution_count": 18,
     "metadata": {},
     "output_type": "execute_result"
    },
    {
     "data": {
      "image/png": "[encoded data removed]",
      "text/plain": [
       "<matplotlib.figure.Figure at 0xb0a4710>"
      ]
     },
     "metadata": {},
     "output_type": "display_data"
    }
   ],
   "source": [
    "survival_and_family_count = pd.DataFrame({'Family Member Count': grouped_family.index.tolist(),\\\n",
    "                                         'Percent Survived': list(grouped_family['Percent Survived'])})\n",
    "survival_and_family_count.plot.scatter(x='Family Member Count',y='Percent Survived',title='Passenger Survival Rate by Number of Family Members on Board')"
   ]
  },
  {
   "cell_type": "code",
   "execution_count": 19,
   "metadata": {},
   "outputs": [
    {
     "name": "stdout",
     "output_type": "stream",
     "text": [
      "[[ 1.         -0.70032663]\n",
      " [-0.70032663  1.        ]]\n"
     ]
    }
   ],
   "source": [
    "print_correlation(survival_and_family_count['Percent Survived'], survival_and_family_count['Family Member Count'])"
   ]
  },
  {
   "cell_type": "markdown",
   "metadata": {},
   "source": [
    "Based on Pearson's correlation coefficient, larger familes are negatively correlated with survival. I do want to use some caution on this one, though, as there is a huge spike in survival rates for passengers with 1, 2, and 3 family members on board. For passengers with 4 or more family members, the survival rate drops significantly. But there are also much fewer passengers on board with families that large. So I'm not completely convinced that the factors are correlated, despite the high number for Pearson's R. "
   ]
  },
  {
   "cell_type": "markdown",
   "metadata": {},
   "source": [
    "# Conclusions"
   ]
  },
  {
   "cell_type": "markdown",
   "metadata": {},
   "source": [
    "So -- how do all these independent variables come together to paint a picture of survival across class, gender, and age? I've created a chart below where you can visually explore survival rates. I did not include family size in this grouping, as I was unsure of its effect."
   ]
  },
  {
   "cell_type": "code",
   "execution_count": 20,
   "metadata": {},
   "outputs": [
    {
     "name": "stdout",
     "output_type": "stream",
     "text": [
      "                                 Survived  On Board  Percent of Total\n",
      "Pclass Sex    Age Category                                           \n",
      "1      female 01-03: toddler            0         1          0.000000\n",
      "              13-18: adolescent        10        10        100.000000\n",
      "              19+: adult               81        83         97.590361\n",
      "       male   00: baby                  1         1        100.000000\n",
      "              04-12: child              2         2        100.000000\n",
      "              13-18: adolescent         1         2         50.000000\n",
      "              19+: adult               41       117         35.042735\n",
      "2      female 01-03: toddler            2         2        100.000000\n",
      "              04-12: child              6         6        100.000000\n",
      "              13-18: adolescent         6         6        100.000000\n",
      "              19+: adult               56        62         90.322581\n",
      "       male   00: baby                  3         3        100.000000\n",
      "              01-03: toddler            5         5        100.000000\n",
      "              04-12: child              1         1        100.000000\n",
      "              13-18: adolescent         0         6          0.000000\n",
      "              19+: adult                8        93          8.602151\n",
      "3      female 00: baby                  2         2        100.000000\n",
      "              01-03: toddler            3         7         42.857143\n",
      "              04-12: child              6        14         42.857143\n",
      "              13-18: adolescent        11        20         55.000000\n",
      "              19+: adult               50       101         49.504950\n",
      "       male   00: baby                  1         1        100.000000\n",
      "              01-03: toddler            3         8         37.500000\n",
      "              04-12: child              5        16         31.250000\n",
      "              13-18: adolescent         2        26          7.692308\n",
      "              19+: adult               36       296         12.162162\n"
     ]
    }
   ],
   "source": [
    "titanic_data['Age Category'] = titanic_data['Age'].apply(age_logic)\n",
    "titanic_data_summary = titanic_data[['Sex','Age Category','Pclass','Survived']]\n",
    "summary_table = titanic_data_summary.groupby(['Pclass','Sex','Age Category']).sum()\n",
    "summary_table['On Board'] = titanic_data_summary.groupby(['Pclass','Sex','Age Category']).count()\n",
    "summary_table['Percent of Total'] = (titanic_data_summary.groupby(['Pclass','Sex','Age Category']).sum())/(titanic_data_summary.groupby(['Pclass','Sex','Age Category']).count())*100.\n",
    "print(summary_table)"
   ]
  },
  {
   "cell_type": "markdown",
   "metadata": {
    "collapsed": true
   },
   "source": [
    "In my analysis, the following factors were correlated with higher survival outcomes: being female, being a young child, and having purchased a higher class ticket. It's important to note that I do not know if my data set was a random sample from the entire population of Titanic passengers. It's possible that data with some underlying bias. If that is the case, my sample data would not accurately represent the larger population, because my sample is not random. \n",
    "\n",
    "There are further factors to explored to describe different groups' survival rates. It would be interesting to explore survival by city of embarkation. I'm also curious to know about crew survival rates. However, the data set I looked at did not include information or survival statistics from crew members.\n",
    "\n",
    "Looking through the passenger list and seeing a list of 1s and 0s in the 'Survived' column has been a surreal experience. I feel like a god peering into the destiny of mortals in some other realm. \n",
    "\n",
    "The sinking of the *Titanic* was one of the deadliest maritime disasters to occur under peaceful circumstances. The tragic incident sparked outrage in both the UK and in the US. It spurred close investigation and creation of maritime safety standards that are still in place today."
   ]
  }
 ],
 "metadata": {
  "kernelspec": {
   "display_name": "Python [default]",
   "language": "python",
   "name": "python2"
  },
  "language_info": {
   "codemirror_mode": {
    "name": "ipython",
    "version": 2
   },
   "file_extension": ".py",
   "mimetype": "text/x-python",
   "name": "python",
   "nbconvert_exporter": "python",
   "pygments_lexer": "ipython2",
   "version": "2.7.13"
  }
 },
 "nbformat": 4,
 "nbformat_minor": 2
}
